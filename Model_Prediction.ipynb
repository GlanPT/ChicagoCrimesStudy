{
 "cells": [
  {
   "cell_type": "code",
   "execution_count": 6,
   "id": "0ac6408d",
   "metadata": {},
   "outputs": [],
   "source": [
    "import pandas as pd\n",
    "import numpy as np\n",
    "from datetime import datetime\n",
    "from sklearn.model_selection import train_test_split\n",
    "from sklearn.linear_model import LinearRegression\n",
    "from sklearn.metrics import mean_absolute_error\n",
    "import matplotlib.pyplot as plt\n",
    "import seaborn as sns"
   ]
  },
  {
   "cell_type": "code",
   "execution_count": 80,
   "id": "bb499503",
   "metadata": {},
   "outputs": [
    {
     "data": {
      "text/plain": [
       "(1485799, 21)"
      ]
     },
     "execution_count": 80,
     "metadata": {},
     "output_type": "execute_result"
    }
   ],
   "source": [
    "df= pd.read_csv(\"data_clean.csv\", index_col=None)\n",
    "df.drop(['Unnamed: 0'],axis=1,inplace=True)\n",
    "df.shape"
   ]
  },
  {
   "cell_type": "code",
   "execution_count": 81,
   "id": "b2ff4a42",
   "metadata": {},
   "outputs": [],
   "source": [
    "df['medical_supp'] = np.where((df['primary_type'] == 'BATTERY') | (df['primary_type'] == 'ASSAULT'),1,0)"
   ]
  },
  {
   "cell_type": "code",
   "execution_count": 82,
   "id": "b85295e4",
   "metadata": {},
   "outputs": [
    {
     "data": {
      "text/plain": [
       "<Axes: >"
      ]
     },
     "execution_count": 82,
     "metadata": {},
     "output_type": "execute_result"
    },
    {
     "data": {
      "image/png": "[encoded data removed]",
      "text/plain": [
       "<Figure size 864x288 with 1 Axes>"
      ]
     },
     "metadata": {
      "needs_background": "light"
     },
     "output_type": "display_data"
    }
   ],
   "source": [
    "fig,ax = plt.subplots(figsize=(12,4))\n",
    "df['medical_supp'].value_counts().plot.bar()"
   ]
  },
  {
   "cell_type": "code",
   "execution_count": 83,
   "id": "f88d40fd",
   "metadata": {},
   "outputs": [
    {
     "data": {
      "text/plain": [
       "<Axes: xlabel='medical_supp', ylabel='count'>"
      ]
     },
     "execution_count": 83,
     "metadata": {},
     "output_type": "execute_result"
    },
    {
     "data": {
      "image/png": "[encoded data removed]",
      "text/plain": [
       "<Figure size 864x288 with 1 Axes>"
      ]
     },
     "metadata": {
      "needs_background": "light"
     },
     "output_type": "display_data"
    }
   ],
   "source": [
    "dfu=df.copy() #copy the dataframe\n",
    "\n",
    "#minority class size\n",
    "minority_class_len= len(dfu[dfu['medical_supp']==0])\n",
    "\n",
    "#majority class -> this case is 1\n",
    "majority_class_indices= dfu[dfu['medical_supp']==1].index\n",
    "\n",
    "#choose randomly a indice from the majority class indices using the len of the minority class\n",
    "random_majority_indices= np.random.choice(majority_class_indices, minority_class_len)\n",
    "\n",
    "#find indices of our minority class - this case is 0\n",
    "minority_class_indices = dfu[dfu['medical_supp']==0].index\n",
    "\n",
    "#concatenate the indices\n",
    "under_sample_indices= np.concatenate([minority_class_indices, random_majority_indices])\n",
    "\n",
    "#reach only the indices from the under sample \n",
    "under_sample= dfu.loc[under_sample_indices]\n",
    "\n",
    "fig,ax = plt.subplots(figsize=(12,4))\n",
    "sns.countplot(x='medical_supp',data=under_sample)"
   ]
  },
  {
   "cell_type": "code",
   "execution_count": 84,
   "id": "af5a9307",
   "metadata": {},
   "outputs": [],
   "source": [
    "dfu=under_sample.copy()\n",
    "dfu=dfu.reset_index(drop=True)"
   ]
  },
  {
   "cell_type": "code",
   "execution_count": 85,
   "id": "abccb889",
   "metadata": {},
   "outputs": [
    {
     "data": {
      "text/plain": [
       "11.0    146437\n",
       "6.0     144635\n",
       "8.0     133783\n",
       "4.0     128932\n",
       "7.0     121133\n",
       "3.0     113461\n",
       "25.0    111080\n",
       "12.0    105333\n",
       "10.0    104242\n",
       "1.0     101967\n",
       "18.0    101635\n",
       "5.0     100618\n",
       "2.0      99434\n",
       "9.0      96276\n",
       "19.0     89918\n",
       "15.0     88924\n",
       "16.0     71885\n",
       "22.0     69230\n",
       "14.0     68070\n",
       "24.0     66866\n",
       "17.0     58759\n",
       "20.0     39791\n",
       "Name: District, dtype: int64"
      ]
     },
     "execution_count": 85,
     "metadata": {},
     "output_type": "execute_result"
    }
   ],
   "source": [
    "dfu['District'].value_counts()"
   ]
  },
  {
   "cell_type": "code",
   "execution_count": 86,
   "id": "ceee9961",
   "metadata": {},
   "outputs": [],
   "source": [
    "dfu= dfu[['date','arrest','domestic','Beat','District','ward','community_area','year','month','hour','District_Cat','day','part_of_day','day_of_week','medical_supp']]"
   ]
  },
  {
   "cell_type": "code",
   "execution_count": 87,
   "id": "36b99489",
   "metadata": {},
   "outputs": [],
   "source": [
    "\n",
    "\n",
    "# categorize age and salary columns using np.where()\n",
    "dfu['District_Cat'] = np.where(dfu['District_Cat'] == 'central', 0, np.where(dfu['District_Cat'] == 'north',1,2))\n",
    "\n",
    "dfu['part_of_day'] = np.where(dfu['part_of_day'] == 'morning', 0, np.where(dfu['part_of_day'] == 'afternoon',1,2))\n",
    "\n",
    "dfu['day_of_week_Cat'] = np.where(dfu['day_of_week'] == 'Monday', 1, np.where(dfu['day_of_week'] == 'Tuesday',2,\n",
    "                                                                            np.where(dfu['day_of_week'] == 'Wednesday',3,\n",
    "                                                                                     np.where(dfu['day_of_week'] == 'Thursday',4,\n",
    "                                                                                              np.where(dfu['day_of_week'] == 'Friday',5,\n",
    "                                                                                                  np.where(dfu['day_of_week'] == 'Saturday',6,7))))))"
   ]
  },
  {
   "cell_type": "code",
   "execution_count": 88,
   "id": "fbc675d2",
   "metadata": {},
   "outputs": [],
   "source": [
    "# convert the date column to datetime type\n",
    "dfu['date'] = pd.to_datetime(dfu['date'])\n",
    "\n",
    "# define a lambda function to format each date string\n",
    "format_date = lambda x: datetime.strftime(x, '%Y-%m-%d')\n",
    "\n",
    "# apply the lambda function to the date column using apply()\n",
    "dfu['formatted_date'] = dfu['date'].apply(format_date)"
   ]
  },
  {
   "cell_type": "code",
   "execution_count": 89,
   "id": "24ae9af1",
   "metadata": {},
   "outputs": [
    {
     "data": {
      "text/html": [
       "<div>\n",
       "<style scoped>\n",
       "    .dataframe tbody tr th:only-of-type {\n",
       "        vertical-align: middle;\n",
       "    }\n",
       "\n",
       "    .dataframe tbody tr th {\n",
       "        vertical-align: top;\n",
       "    }\n",
       "\n",
       "    .dataframe thead th {\n",
       "        text-align: right;\n",
       "    }\n",
       "</style>\n",
       "<table border=\"1\" class=\"dataframe\">\n",
       "  <thead>\n",
       "    <tr style=\"text-align: right;\">\n",
       "      <th></th>\n",
       "      <th>formatted_date</th>\n",
       "      <th>arrest</th>\n",
       "      <th>domestic</th>\n",
       "      <th>Beat</th>\n",
       "      <th>District</th>\n",
       "      <th>ward</th>\n",
       "      <th>community_area</th>\n",
       "      <th>year</th>\n",
       "      <th>month</th>\n",
       "      <th>hour</th>\n",
       "      <th>District_Cat</th>\n",
       "      <th>day</th>\n",
       "      <th>part_of_day</th>\n",
       "      <th>day_of_week_Cat</th>\n",
       "      <th>medical_supp</th>\n",
       "    </tr>\n",
       "  </thead>\n",
       "  <tbody>\n",
       "    <tr>\n",
       "      <th>0</th>\n",
       "      <td>2020-03-17</td>\n",
       "      <td>0</td>\n",
       "      <td>0</td>\n",
       "      <td>1634</td>\n",
       "      <td>16.0</td>\n",
       "      <td>45.0</td>\n",
       "      <td>15.0</td>\n",
       "      <td>2020</td>\n",
       "      <td>3</td>\n",
       "      <td>21</td>\n",
       "      <td>1</td>\n",
       "      <td>17</td>\n",
       "      <td>2</td>\n",
       "      <td>2</td>\n",
       "      <td>0</td>\n",
       "    </tr>\n",
       "    <tr>\n",
       "      <th>1</th>\n",
       "      <td>2019-09-24</td>\n",
       "      <td>0</td>\n",
       "      <td>0</td>\n",
       "      <td>132</td>\n",
       "      <td>1.0</td>\n",
       "      <td>3.0</td>\n",
       "      <td>33.0</td>\n",
       "      <td>2019</td>\n",
       "      <td>9</td>\n",
       "      <td>8</td>\n",
       "      <td>0</td>\n",
       "      <td>24</td>\n",
       "      <td>0</td>\n",
       "      <td>2</td>\n",
       "      <td>0</td>\n",
       "    </tr>\n",
       "    <tr>\n",
       "      <th>2</th>\n",
       "      <td>2019-10-13</td>\n",
       "      <td>0</td>\n",
       "      <td>0</td>\n",
       "      <td>1221</td>\n",
       "      <td>12.0</td>\n",
       "      <td>26.0</td>\n",
       "      <td>24.0</td>\n",
       "      <td>2019</td>\n",
       "      <td>10</td>\n",
       "      <td>20</td>\n",
       "      <td>0</td>\n",
       "      <td>13</td>\n",
       "      <td>2</td>\n",
       "      <td>7</td>\n",
       "      <td>0</td>\n",
       "    </tr>\n",
       "    <tr>\n",
       "      <th>3</th>\n",
       "      <td>2020-03-18</td>\n",
       "      <td>0</td>\n",
       "      <td>1</td>\n",
       "      <td>1132</td>\n",
       "      <td>11.0</td>\n",
       "      <td>28.0</td>\n",
       "      <td>26.0</td>\n",
       "      <td>2020</td>\n",
       "      <td>3</td>\n",
       "      <td>2</td>\n",
       "      <td>1</td>\n",
       "      <td>18</td>\n",
       "      <td>2</td>\n",
       "      <td>3</td>\n",
       "      <td>0</td>\n",
       "    </tr>\n",
       "    <tr>\n",
       "      <th>4</th>\n",
       "      <td>2019-10-05</td>\n",
       "      <td>0</td>\n",
       "      <td>0</td>\n",
       "      <td>1224</td>\n",
       "      <td>12.0</td>\n",
       "      <td>27.0</td>\n",
       "      <td>28.0</td>\n",
       "      <td>2019</td>\n",
       "      <td>10</td>\n",
       "      <td>18</td>\n",
       "      <td>0</td>\n",
       "      <td>5</td>\n",
       "      <td>1</td>\n",
       "      <td>6</td>\n",
       "      <td>0</td>\n",
       "    </tr>\n",
       "    <tr>\n",
       "      <th>...</th>\n",
       "      <td>...</td>\n",
       "      <td>...</td>\n",
       "      <td>...</td>\n",
       "      <td>...</td>\n",
       "      <td>...</td>\n",
       "      <td>...</td>\n",
       "      <td>...</td>\n",
       "      <td>...</td>\n",
       "      <td>...</td>\n",
       "      <td>...</td>\n",
       "      <td>...</td>\n",
       "      <td>...</td>\n",
       "      <td>...</td>\n",
       "      <td>...</td>\n",
       "      <td>...</td>\n",
       "    </tr>\n",
       "    <tr>\n",
       "      <th>2162487</th>\n",
       "      <td>2017-06-01</td>\n",
       "      <td>0</td>\n",
       "      <td>1</td>\n",
       "      <td>231</td>\n",
       "      <td>2.0</td>\n",
       "      <td>20.0</td>\n",
       "      <td>40.0</td>\n",
       "      <td>2017</td>\n",
       "      <td>6</td>\n",
       "      <td>11</td>\n",
       "      <td>0</td>\n",
       "      <td>1</td>\n",
       "      <td>0</td>\n",
       "      <td>4</td>\n",
       "      <td>1</td>\n",
       "    </tr>\n",
       "    <tr>\n",
       "      <th>2162488</th>\n",
       "      <td>2017-09-01</td>\n",
       "      <td>0</td>\n",
       "      <td>0</td>\n",
       "      <td>123</td>\n",
       "      <td>1.0</td>\n",
       "      <td>2.0</td>\n",
       "      <td>32.0</td>\n",
       "      <td>2017</td>\n",
       "      <td>9</td>\n",
       "      <td>22</td>\n",
       "      <td>0</td>\n",
       "      <td>1</td>\n",
       "      <td>2</td>\n",
       "      <td>5</td>\n",
       "      <td>1</td>\n",
       "    </tr>\n",
       "    <tr>\n",
       "      <th>2162489</th>\n",
       "      <td>2022-09-19</td>\n",
       "      <td>0</td>\n",
       "      <td>0</td>\n",
       "      <td>1034</td>\n",
       "      <td>10.0</td>\n",
       "      <td>24.0</td>\n",
       "      <td>30.0</td>\n",
       "      <td>2022</td>\n",
       "      <td>9</td>\n",
       "      <td>14</td>\n",
       "      <td>0</td>\n",
       "      <td>19</td>\n",
       "      <td>1</td>\n",
       "      <td>1</td>\n",
       "      <td>1</td>\n",
       "    </tr>\n",
       "    <tr>\n",
       "      <th>2162490</th>\n",
       "      <td>2022-11-27</td>\n",
       "      <td>0</td>\n",
       "      <td>0</td>\n",
       "      <td>1831</td>\n",
       "      <td>18.0</td>\n",
       "      <td>42.0</td>\n",
       "      <td>8.0</td>\n",
       "      <td>2022</td>\n",
       "      <td>11</td>\n",
       "      <td>21</td>\n",
       "      <td>0</td>\n",
       "      <td>27</td>\n",
       "      <td>2</td>\n",
       "      <td>7</td>\n",
       "      <td>1</td>\n",
       "    </tr>\n",
       "    <tr>\n",
       "      <th>2162491</th>\n",
       "      <td>2017-08-24</td>\n",
       "      <td>0</td>\n",
       "      <td>0</td>\n",
       "      <td>1113</td>\n",
       "      <td>11.0</td>\n",
       "      <td>28.0</td>\n",
       "      <td>25.0</td>\n",
       "      <td>2017</td>\n",
       "      <td>8</td>\n",
       "      <td>17</td>\n",
       "      <td>1</td>\n",
       "      <td>24</td>\n",
       "      <td>1</td>\n",
       "      <td>4</td>\n",
       "      <td>1</td>\n",
       "    </tr>\n",
       "  </tbody>\n",
       "</table>\n",
       "<p>2162492 rows × 15 columns</p>\n",
       "</div>"
      ],
      "text/plain": [
       "        formatted_date  arrest  domestic  Beat  District  ward  \\\n",
       "0           2020-03-17       0         0  1634      16.0  45.0   \n",
       "1           2019-09-24       0         0   132       1.0   3.0   \n",
       "2           2019-10-13       0         0  1221      12.0  26.0   \n",
       "3           2020-03-18       0         1  1132      11.0  28.0   \n",
       "4           2019-10-05       0         0  1224      12.0  27.0   \n",
       "...                ...     ...       ...   ...       ...   ...   \n",
       "2162487     2017-06-01       0         1   231       2.0  20.0   \n",
       "2162488     2017-09-01       0         0   123       1.0   2.0   \n",
       "2162489     2022-09-19       0         0  1034      10.0  24.0   \n",
       "2162490     2022-11-27       0         0  1831      18.0  42.0   \n",
       "2162491     2017-08-24       0         0  1113      11.0  28.0   \n",
       "\n",
       "         community_area  year  month  hour  District_Cat  day  part_of_day  \\\n",
       "0                  15.0  2020      3    21             1   17            2   \n",
       "1                  33.0  2019      9     8             0   24            0   \n",
       "2                  24.0  2019     10    20             0   13            2   \n",
       "3                  26.0  2020      3     2             1   18            2   \n",
       "4                  28.0  2019     10    18             0    5            1   \n",
       "...                 ...   ...    ...   ...           ...  ...          ...   \n",
       "2162487            40.0  2017      6    11             0    1            0   \n",
       "2162488            32.0  2017      9    22             0    1            2   \n",
       "2162489            30.0  2022      9    14             0   19            1   \n",
       "2162490             8.0  2022     11    21             0   27            2   \n",
       "2162491            25.0  2017      8    17             1   24            1   \n",
       "\n",
       "         day_of_week_Cat  medical_supp  \n",
       "0                      2             0  \n",
       "1                      2             0  \n",
       "2                      7             0  \n",
       "3                      3             0  \n",
       "4                      6             0  \n",
       "...                  ...           ...  \n",
       "2162487                4             1  \n",
       "2162488                5             1  \n",
       "2162489                1             1  \n",
       "2162490                7             1  \n",
       "2162491                4             1  \n",
       "\n",
       "[2162492 rows x 15 columns]"
      ]
     },
     "execution_count": 89,
     "metadata": {},
     "output_type": "execute_result"
    }
   ],
   "source": [
    "dfu= dfu[['formatted_date','arrest','domestic','Beat','District','ward','community_area','year','month','hour','District_Cat','day','part_of_day','day_of_week_Cat','medical_supp']]\n",
    "dfu"
   ]
  },
  {
   "cell_type": "code",
   "execution_count": 90,
   "id": "51e79adf",
   "metadata": {},
   "outputs": [
    {
     "data": {
      "text/html": [
       "<style type=\"text/css\">\n",
       "#T_1eb3f_row0_col0, #T_1eb3f_row1_col1, #T_1eb3f_row2_col2, #T_1eb3f_row2_col3, #T_1eb3f_row3_col2, #T_1eb3f_row3_col3, #T_1eb3f_row4_col4, #T_1eb3f_row5_col5, #T_1eb3f_row6_col6, #T_1eb3f_row7_col7, #T_1eb3f_row8_col8, #T_1eb3f_row9_col9, #T_1eb3f_row10_col10, #T_1eb3f_row11_col11, #T_1eb3f_row12_col12, #T_1eb3f_row13_col13 {\n",
       "  background-color: #b40426;\n",
       "  color: #f1f1f1;\n",
       "}\n",
       "#T_1eb3f_row0_col1, #T_1eb3f_row1_col0, #T_1eb3f_row4_col0, #T_1eb3f_row5_col7, #T_1eb3f_row6_col13, #T_1eb3f_row7_col1 {\n",
       "  background-color: #506bda;\n",
       "  color: #f1f1f1;\n",
       "}\n",
       "#T_1eb3f_row0_col2, #T_1eb3f_row0_col3 {\n",
       "  background-color: #a3c2fe;\n",
       "  color: #000000;\n",
       "}\n",
       "#T_1eb3f_row0_col4, #T_1eb3f_row7_col5, #T_1eb3f_row11_col2, #T_1eb3f_row11_col3, #T_1eb3f_row11_col5 {\n",
       "  background-color: #abc8fd;\n",
       "  color: #000000;\n",
       "}\n",
       "#T_1eb3f_row0_col5 {\n",
       "  background-color: #b1cbfc;\n",
       "  color: #000000;\n",
       "}\n",
       "#T_1eb3f_row0_col6, #T_1eb3f_row0_col10, #T_1eb3f_row1_col8, #T_1eb3f_row2_col10, #T_1eb3f_row3_col10, #T_1eb3f_row4_col1, #T_1eb3f_row4_col5, #T_1eb3f_row4_col9, #T_1eb3f_row4_col10, #T_1eb3f_row4_col13, #T_1eb3f_row5_col2, #T_1eb3f_row5_col3, #T_1eb3f_row5_col4, #T_1eb3f_row5_col10, #T_1eb3f_row5_col11, #T_1eb3f_row6_col0, #T_1eb3f_row6_col7, #T_1eb3f_row6_col8, #T_1eb3f_row6_col10, #T_1eb3f_row7_col6, #T_1eb3f_row7_col10, #T_1eb3f_row8_col12, #T_1eb3f_row9_col10, #T_1eb3f_row12_col8, #T_1eb3f_row12_col10 {\n",
       "  background-color: #3b4cc0;\n",
       "  color: #f1f1f1;\n",
       "}\n",
       "#T_1eb3f_row0_col7, #T_1eb3f_row7_col0, #T_1eb3f_row7_col13 {\n",
       "  background-color: #4c66d6;\n",
       "  color: #f1f1f1;\n",
       "}\n",
       "#T_1eb3f_row0_col8, #T_1eb3f_row1_col7, #T_1eb3f_row1_col12 {\n",
       "  background-color: #4f69d9;\n",
       "  color: #f1f1f1;\n",
       "}\n",
       "#T_1eb3f_row0_col9, #T_1eb3f_row0_col13, #T_1eb3f_row8_col13 {\n",
       "  background-color: #4b64d5;\n",
       "  color: #f1f1f1;\n",
       "}\n",
       "#T_1eb3f_row0_col11, #T_1eb3f_row2_col8, #T_1eb3f_row3_col8, #T_1eb3f_row9_col8, #T_1eb3f_row10_col9, #T_1eb3f_row10_col12, #T_1eb3f_row11_col9, #T_1eb3f_row13_col8 {\n",
       "  background-color: #445acc;\n",
       "  color: #f1f1f1;\n",
       "}\n",
       "#T_1eb3f_row0_col12, #T_1eb3f_row2_col12, #T_1eb3f_row3_col12, #T_1eb3f_row4_col12, #T_1eb3f_row8_col1, #T_1eb3f_row10_col8 {\n",
       "  background-color: #485fd1;\n",
       "  color: #f1f1f1;\n",
       "}\n",
       "#T_1eb3f_row1_col2, #T_1eb3f_row1_col3 {\n",
       "  background-color: #98b9ff;\n",
       "  color: #000000;\n",
       "}\n",
       "#T_1eb3f_row1_col4 {\n",
       "  background-color: #9abbff;\n",
       "  color: #000000;\n",
       "}\n",
       "#T_1eb3f_row1_col5 {\n",
       "  background-color: #c5d6f2;\n",
       "  color: #000000;\n",
       "}\n",
       "#T_1eb3f_row1_col6 {\n",
       "  background-color: #5b7ae5;\n",
       "  color: #f1f1f1;\n",
       "}\n",
       "#T_1eb3f_row1_col9 {\n",
       "  background-color: #5f7fe8;\n",
       "  color: #f1f1f1;\n",
       "}\n",
       "#T_1eb3f_row1_col10, #T_1eb3f_row4_col11, #T_1eb3f_row9_col11, #T_1eb3f_row11_col10, #T_1eb3f_row13_col10 {\n",
       "  background-color: #3c4ec2;\n",
       "  color: #f1f1f1;\n",
       "}\n",
       "#T_1eb3f_row1_col11, #T_1eb3f_row8_col6 {\n",
       "  background-color: #4961d2;\n",
       "  color: #f1f1f1;\n",
       "}\n",
       "#T_1eb3f_row1_col13 {\n",
       "  background-color: #cdd9ec;\n",
       "  color: #000000;\n",
       "}\n",
       "#T_1eb3f_row2_col0, #T_1eb3f_row3_col0, #T_1eb3f_row10_col13, #T_1eb3f_row13_col12 {\n",
       "  background-color: #4e68d8;\n",
       "  color: #f1f1f1;\n",
       "}\n",
       "#T_1eb3f_row2_col1, #T_1eb3f_row2_col11, #T_1eb3f_row3_col1, #T_1eb3f_row3_col11 {\n",
       "  background-color: #4055c8;\n",
       "  color: #f1f1f1;\n",
       "}\n",
       "#T_1eb3f_row2_col4, #T_1eb3f_row3_col4 {\n",
       "  background-color: #f08b6e;\n",
       "  color: #f1f1f1;\n",
       "}\n",
       "#T_1eb3f_row2_col5, #T_1eb3f_row3_col5, #T_1eb3f_row5_col12, #T_1eb3f_row6_col11, #T_1eb3f_row12_col9 {\n",
       "  background-color: #4257c9;\n",
       "  color: #f1f1f1;\n",
       "}\n",
       "#T_1eb3f_row2_col6, #T_1eb3f_row2_col7, #T_1eb3f_row3_col6, #T_1eb3f_row3_col7, #T_1eb3f_row4_col7, #T_1eb3f_row10_col1, #T_1eb3f_row12_col7, #T_1eb3f_row13_col9 {\n",
       "  background-color: #5470de;\n",
       "  color: #f1f1f1;\n",
       "}\n",
       "#T_1eb3f_row2_col9, #T_1eb3f_row3_col9, #T_1eb3f_row11_col6 {\n",
       "  background-color: #5875e1;\n",
       "  color: #f1f1f1;\n",
       "}\n",
       "#T_1eb3f_row2_col13, #T_1eb3f_row3_col13, #T_1eb3f_row8_col10 {\n",
       "  background-color: #3e51c5;\n",
       "  color: #f1f1f1;\n",
       "}\n",
       "#T_1eb3f_row4_col2 {\n",
       "  background-color: #f18f71;\n",
       "  color: #f1f1f1;\n",
       "}\n",
       "#T_1eb3f_row4_col3 {\n",
       "  background-color: #f18d6f;\n",
       "  color: #f1f1f1;\n",
       "}\n",
       "#T_1eb3f_row4_col6, #T_1eb3f_row5_col6, #T_1eb3f_row8_col7, #T_1eb3f_row10_col0, #T_1eb3f_row12_col6 {\n",
       "  background-color: #536edd;\n",
       "  color: #f1f1f1;\n",
       "}\n",
       "#T_1eb3f_row4_col8, #T_1eb3f_row5_col8, #T_1eb3f_row6_col12, #T_1eb3f_row7_col8 {\n",
       "  background-color: #455cce;\n",
       "  color: #f1f1f1;\n",
       "}\n",
       "#T_1eb3f_row5_col0, #T_1eb3f_row11_col13, #T_1eb3f_row12_col13, #T_1eb3f_row13_col6 {\n",
       "  background-color: #5673e0;\n",
       "  color: #f1f1f1;\n",
       "}\n",
       "#T_1eb3f_row5_col1 {\n",
       "  background-color: #7597f6;\n",
       "  color: #f1f1f1;\n",
       "}\n",
       "#T_1eb3f_row5_col9 {\n",
       "  background-color: #9fbfff;\n",
       "  color: #000000;\n",
       "}\n",
       "#T_1eb3f_row5_col13 {\n",
       "  background-color: #6384eb;\n",
       "  color: #f1f1f1;\n",
       "}\n",
       "#T_1eb3f_row6_col1, #T_1eb3f_row8_col0, #T_1eb3f_row9_col13, #T_1eb3f_row12_col1 {\n",
       "  background-color: #5d7ce6;\n",
       "  color: #f1f1f1;\n",
       "}\n",
       "#T_1eb3f_row6_col2, #T_1eb3f_row6_col3, #T_1eb3f_row7_col2, #T_1eb3f_row7_col3 {\n",
       "  background-color: #a9c6fd;\n",
       "  color: #000000;\n",
       "}\n",
       "#T_1eb3f_row6_col4, #T_1eb3f_row7_col4, #T_1eb3f_row8_col4, #T_1eb3f_row8_col5, #T_1eb3f_row10_col5 {\n",
       "  background-color: #aec9fc;\n",
       "  color: #000000;\n",
       "}\n",
       "#T_1eb3f_row6_col5, #T_1eb3f_row10_col4, #T_1eb3f_row11_col4 {\n",
       "  background-color: #adc9fd;\n",
       "  color: #000000;\n",
       "}\n",
       "#T_1eb3f_row6_col9, #T_1eb3f_row7_col9, #T_1eb3f_row8_col9, #T_1eb3f_row9_col12 {\n",
       "  background-color: #4358cb;\n",
       "  color: #f1f1f1;\n",
       "}\n",
       "#T_1eb3f_row7_col11 {\n",
       "  background-color: #3f53c6;\n",
       "  color: #f1f1f1;\n",
       "}\n",
       "#T_1eb3f_row7_col12, #T_1eb3f_row13_col11 {\n",
       "  background-color: #465ecf;\n",
       "  color: #f1f1f1;\n",
       "}\n",
       "#T_1eb3f_row8_col2, #T_1eb3f_row8_col3, #T_1eb3f_row10_col2, #T_1eb3f_row10_col3 {\n",
       "  background-color: #a7c5fe;\n",
       "  color: #000000;\n",
       "}\n",
       "#T_1eb3f_row8_col11 {\n",
       "  background-color: #5977e3;\n",
       "  color: #f1f1f1;\n",
       "}\n",
       "#T_1eb3f_row9_col0, #T_1eb3f_row11_col0, #T_1eb3f_row11_col12 {\n",
       "  background-color: #5a78e4;\n",
       "  color: #f1f1f1;\n",
       "}\n",
       "#T_1eb3f_row9_col1 {\n",
       "  background-color: #6e90f2;\n",
       "  color: #f1f1f1;\n",
       "}\n",
       "#T_1eb3f_row9_col2, #T_1eb3f_row9_col3 {\n",
       "  background-color: #b6cefa;\n",
       "  color: #000000;\n",
       "}\n",
       "#T_1eb3f_row9_col4 {\n",
       "  background-color: #a6c4fe;\n",
       "  color: #000000;\n",
       "}\n",
       "#T_1eb3f_row9_col5 {\n",
       "  background-color: #e3d9d3;\n",
       "  color: #000000;\n",
       "}\n",
       "#T_1eb3f_row9_col6, #T_1eb3f_row9_col7, #T_1eb3f_row10_col6, #T_1eb3f_row10_col7, #T_1eb3f_row12_col11, #T_1eb3f_row13_col0, #T_1eb3f_row13_col7 {\n",
       "  background-color: #516ddb;\n",
       "  color: #f1f1f1;\n",
       "}\n",
       "#T_1eb3f_row10_col11 {\n",
       "  background-color: #3d50c3;\n",
       "  color: #f1f1f1;\n",
       "}\n",
       "#T_1eb3f_row11_col1 {\n",
       "  background-color: #6180e9;\n",
       "  color: #f1f1f1;\n",
       "}\n",
       "#T_1eb3f_row11_col7, #T_1eb3f_row12_col0 {\n",
       "  background-color: #5572df;\n",
       "  color: #f1f1f1;\n",
       "}\n",
       "#T_1eb3f_row11_col8 {\n",
       "  background-color: #6282ea;\n",
       "  color: #f1f1f1;\n",
       "}\n",
       "#T_1eb3f_row12_col2, #T_1eb3f_row12_col3, #T_1eb3f_row12_col5 {\n",
       "  background-color: #aac7fd;\n",
       "  color: #000000;\n",
       "}\n",
       "#T_1eb3f_row12_col4 {\n",
       "  background-color: #afcafc;\n",
       "  color: #000000;\n",
       "}\n",
       "#T_1eb3f_row13_col1 {\n",
       "  background-color: #d1dae9;\n",
       "  color: #000000;\n",
       "}\n",
       "#T_1eb3f_row13_col2, #T_1eb3f_row13_col3 {\n",
       "  background-color: #9dbdff;\n",
       "  color: #000000;\n",
       "}\n",
       "#T_1eb3f_row13_col4 {\n",
       "  background-color: #9ebeff;\n",
       "  color: #000000;\n",
       "}\n",
       "#T_1eb3f_row13_col5 {\n",
       "  background-color: #bed2f6;\n",
       "  color: #000000;\n",
       "}\n",
       "</style>\n",
       "<table id=\"T_1eb3f_\">\n",
       "  <thead>\n",
       "    <tr>\n",
       "      <th class=\"blank level0\" >&nbsp;</th>\n",
       "      <th class=\"col_heading level0 col0\" >arrest</th>\n",
       "      <th class=\"col_heading level0 col1\" >domestic</th>\n",
       "      <th class=\"col_heading level0 col2\" >Beat</th>\n",
       "      <th class=\"col_heading level0 col3\" >District</th>\n",
       "      <th class=\"col_heading level0 col4\" >ward</th>\n",
       "      <th class=\"col_heading level0 col5\" >community_area</th>\n",
       "      <th class=\"col_heading level0 col6\" >year</th>\n",
       "      <th class=\"col_heading level0 col7\" >month</th>\n",
       "      <th class=\"col_heading level0 col8\" >hour</th>\n",
       "      <th class=\"col_heading level0 col9\" >District_Cat</th>\n",
       "      <th class=\"col_heading level0 col10\" >day</th>\n",
       "      <th class=\"col_heading level0 col11\" >part_of_day</th>\n",
       "      <th class=\"col_heading level0 col12\" >day_of_week_Cat</th>\n",
       "      <th class=\"col_heading level0 col13\" >medical_supp</th>\n",
       "    </tr>\n",
       "  </thead>\n",
       "  <tbody>\n",
       "    <tr>\n",
       "      <th id=\"T_1eb3f_level0_row0\" class=\"row_heading level0 row0\" >arrest</th>\n",
       "      <td id=\"T_1eb3f_row0_col0\" class=\"data row0 col0\" >1.000000</td>\n",
       "      <td id=\"T_1eb3f_row0_col1\" class=\"data row0 col1\" >-0.008640</td>\n",
       "      <td id=\"T_1eb3f_row0_col2\" class=\"data row0 col2\" >-0.018424</td>\n",
       "      <td id=\"T_1eb3f_row0_col3\" class=\"data row0 col3\" >-0.018528</td>\n",
       "      <td id=\"T_1eb3f_row0_col4\" class=\"data row0 col4\" >-0.007322</td>\n",
       "      <td id=\"T_1eb3f_row0_col5\" class=\"data row0 col5\" >0.011889</td>\n",
       "      <td id=\"T_1eb3f_row0_col6\" class=\"data row0 col6\" >-0.087716</td>\n",
       "      <td id=\"T_1eb3f_row0_col7\" class=\"data row0 col7\" >-0.020851</td>\n",
       "      <td id=\"T_1eb3f_row0_col8\" class=\"data row0 col8\" >0.032574</td>\n",
       "      <td id=\"T_1eb3f_row0_col9\" class=\"data row0 col9\" >0.024747</td>\n",
       "      <td id=\"T_1eb3f_row0_col10\" class=\"data row0 col10\" >0.000262</td>\n",
       "      <td id=\"T_1eb3f_row0_col11\" class=\"data row0 col11\" >0.024368</td>\n",
       "      <td id=\"T_1eb3f_row0_col12\" class=\"data row0 col12\" >0.009240</td>\n",
       "      <td id=\"T_1eb3f_row0_col13\" class=\"data row0 col13\" >-0.005945</td>\n",
       "    </tr>\n",
       "    <tr>\n",
       "      <th id=\"T_1eb3f_level0_row1\" class=\"row_heading level0 row1\" >domestic</th>\n",
       "      <td id=\"T_1eb3f_row1_col0\" class=\"data row1 col0\" >-0.008640</td>\n",
       "      <td id=\"T_1eb3f_row1_col1\" class=\"data row1 col1\" >1.000000</td>\n",
       "      <td id=\"T_1eb3f_row1_col2\" class=\"data row1 col2\" >-0.064846</td>\n",
       "      <td id=\"T_1eb3f_row1_col3\" class=\"data row1 col3\" >-0.064854</td>\n",
       "      <td id=\"T_1eb3f_row1_col4\" class=\"data row1 col4\" >-0.088681</td>\n",
       "      <td id=\"T_1eb3f_row1_col5\" class=\"data row1 col5\" >0.108318</td>\n",
       "      <td id=\"T_1eb3f_row1_col6\" class=\"data row1 col6\" >0.030537</td>\n",
       "      <td id=\"T_1eb3f_row1_col7\" class=\"data row1 col7\" >-0.011243</td>\n",
       "      <td id=\"T_1eb3f_row1_col8\" class=\"data row1 col8\" >-0.038159</td>\n",
       "      <td id=\"T_1eb3f_row1_col9\" class=\"data row1 col9\" >0.088751</td>\n",
       "      <td id=\"T_1eb3f_row1_col10\" class=\"data row1 col10\" >0.000977</td>\n",
       "      <td id=\"T_1eb3f_row1_col11\" class=\"data row1 col11\" >0.043710</td>\n",
       "      <td id=\"T_1eb3f_row1_col12\" class=\"data row1 col12\" >0.033452</td>\n",
       "      <td id=\"T_1eb3f_row1_col13\" class=\"data row1 col13\" >0.404779</td>\n",
       "    </tr>\n",
       "    <tr>\n",
       "      <th id=\"T_1eb3f_level0_row2\" class=\"row_heading level0 row2\" >Beat</th>\n",
       "      <td id=\"T_1eb3f_row2_col0\" class=\"data row2 col0\" >-0.018424</td>\n",
       "      <td id=\"T_1eb3f_row2_col1\" class=\"data row2 col1\" >-0.064846</td>\n",
       "      <td id=\"T_1eb3f_row2_col2\" class=\"data row2 col2\" >1.000000</td>\n",
       "      <td id=\"T_1eb3f_row2_col3\" class=\"data row2 col3\" >0.999873</td>\n",
       "      <td id=\"T_1eb3f_row2_col4\" class=\"data row2 col4\" >0.667516</td>\n",
       "      <td id=\"T_1eb3f_row2_col5\" class=\"data row2 col5\" >-0.487541</td>\n",
       "      <td id=\"T_1eb3f_row2_col6\" class=\"data row2 col6\" >0.004736</td>\n",
       "      <td id=\"T_1eb3f_row2_col7\" class=\"data row2 col7\" >0.004324</td>\n",
       "      <td id=\"T_1eb3f_row2_col8\" class=\"data row2 col8\" >-0.002537</td>\n",
       "      <td id=\"T_1eb3f_row2_col9\" class=\"data row2 col9\" >0.063519</td>\n",
       "      <td id=\"T_1eb3f_row2_col10\" class=\"data row2 col10\" >-0.002560</td>\n",
       "      <td id=\"T_1eb3f_row2_col11\" class=\"data row2 col11\" >0.014398</td>\n",
       "      <td id=\"T_1eb3f_row2_col12\" class=\"data row2 col12\" >0.011317</td>\n",
       "      <td id=\"T_1eb3f_row2_col13\" class=\"data row2 col13\" >-0.050003</td>\n",
       "    </tr>\n",
       "    <tr>\n",
       "      <th id=\"T_1eb3f_level0_row3\" class=\"row_heading level0 row3\" >District</th>\n",
       "      <td id=\"T_1eb3f_row3_col0\" class=\"data row3 col0\" >-0.018528</td>\n",
       "      <td id=\"T_1eb3f_row3_col1\" class=\"data row3 col1\" >-0.064854</td>\n",
       "      <td id=\"T_1eb3f_row3_col2\" class=\"data row3 col2\" >0.999873</td>\n",
       "      <td id=\"T_1eb3f_row3_col3\" class=\"data row3 col3\" >1.000000</td>\n",
       "      <td id=\"T_1eb3f_row3_col4\" class=\"data row3 col4\" >0.668714</td>\n",
       "      <td id=\"T_1eb3f_row3_col5\" class=\"data row3 col5\" >-0.488228</td>\n",
       "      <td id=\"T_1eb3f_row3_col6\" class=\"data row3 col6\" >0.004663</td>\n",
       "      <td id=\"T_1eb3f_row3_col7\" class=\"data row3 col7\" >0.004358</td>\n",
       "      <td id=\"T_1eb3f_row3_col8\" class=\"data row3 col8\" >-0.002445</td>\n",
       "      <td id=\"T_1eb3f_row3_col9\" class=\"data row3 col9\" >0.063952</td>\n",
       "      <td id=\"T_1eb3f_row3_col10\" class=\"data row3 col10\" >-0.002564</td>\n",
       "      <td id=\"T_1eb3f_row3_col11\" class=\"data row3 col11\" >0.014376</td>\n",
       "      <td id=\"T_1eb3f_row3_col12\" class=\"data row3 col12\" >0.011263</td>\n",
       "      <td id=\"T_1eb3f_row3_col13\" class=\"data row3 col13\" >-0.050089</td>\n",
       "    </tr>\n",
       "    <tr>\n",
       "      <th id=\"T_1eb3f_level0_row4\" class=\"row_heading level0 row4\" >ward</th>\n",
       "      <td id=\"T_1eb3f_row4_col0\" class=\"data row4 col0\" >-0.007322</td>\n",
       "      <td id=\"T_1eb3f_row4_col1\" class=\"data row4 col1\" >-0.088681</td>\n",
       "      <td id=\"T_1eb3f_row4_col2\" class=\"data row4 col2\" >0.667516</td>\n",
       "      <td id=\"T_1eb3f_row4_col3\" class=\"data row4 col3\" >0.668714</td>\n",
       "      <td id=\"T_1eb3f_row4_col4\" class=\"data row4 col4\" >1.000000</td>\n",
       "      <td id=\"T_1eb3f_row4_col5\" class=\"data row4 col5\" >-0.523946</td>\n",
       "      <td id=\"T_1eb3f_row4_col6\" class=\"data row4 col6\" >0.000722</td>\n",
       "      <td id=\"T_1eb3f_row4_col7\" class=\"data row4 col7\" >0.005023</td>\n",
       "      <td id=\"T_1eb3f_row4_col8\" class=\"data row4 col8\" >0.002199</td>\n",
       "      <td id=\"T_1eb3f_row4_col9\" class=\"data row4 col9\" >-0.034518</td>\n",
       "      <td id=\"T_1eb3f_row4_col10\" class=\"data row4 col10\" >-0.001956</td>\n",
       "      <td id=\"T_1eb3f_row4_col11\" class=\"data row4 col11\" >-0.000935</td>\n",
       "      <td id=\"T_1eb3f_row4_col12\" class=\"data row4 col12\" >0.007894</td>\n",
       "      <td id=\"T_1eb3f_row4_col13\" class=\"data row4 col13\" >-0.065648</td>\n",
       "    </tr>\n",
       "    <tr>\n",
       "      <th id=\"T_1eb3f_level0_row5\" class=\"row_heading level0 row5\" >community_area</th>\n",
       "      <td id=\"T_1eb3f_row5_col0\" class=\"data row5 col0\" >0.011889</td>\n",
       "      <td id=\"T_1eb3f_row5_col1\" class=\"data row5 col1\" >0.108318</td>\n",
       "      <td id=\"T_1eb3f_row5_col2\" class=\"data row5 col2\" >-0.487541</td>\n",
       "      <td id=\"T_1eb3f_row5_col3\" class=\"data row5 col3\" >-0.488228</td>\n",
       "      <td id=\"T_1eb3f_row5_col4\" class=\"data row5 col4\" >-0.523946</td>\n",
       "      <td id=\"T_1eb3f_row5_col5\" class=\"data row5 col5\" >1.000000</td>\n",
       "      <td id=\"T_1eb3f_row5_col6\" class=\"data row5 col6\" >-0.000176</td>\n",
       "      <td id=\"T_1eb3f_row5_col7\" class=\"data row5 col7\" >-0.007388</td>\n",
       "      <td id=\"T_1eb3f_row5_col8\" class=\"data row5 col8\" >0.000382</td>\n",
       "      <td id=\"T_1eb3f_row5_col9\" class=\"data row5 col9\" >0.278937</td>\n",
       "      <td id=\"T_1eb3f_row5_col10\" class=\"data row5 col10\" >0.000478</td>\n",
       "      <td id=\"T_1eb3f_row5_col11\" class=\"data row5 col11\" >-0.007105</td>\n",
       "      <td id=\"T_1eb3f_row5_col12\" class=\"data row5 col12\" >-0.012470</td>\n",
       "      <td id=\"T_1eb3f_row5_col13\" class=\"data row5 col13\" >0.074488</td>\n",
       "    </tr>\n",
       "    <tr>\n",
       "      <th id=\"T_1eb3f_level0_row6\" class=\"row_heading level0 row6\" >year</th>\n",
       "      <td id=\"T_1eb3f_row6_col0\" class=\"data row6 col0\" >-0.087716</td>\n",
       "      <td id=\"T_1eb3f_row6_col1\" class=\"data row6 col1\" >0.030537</td>\n",
       "      <td id=\"T_1eb3f_row6_col2\" class=\"data row6 col2\" >0.004736</td>\n",
       "      <td id=\"T_1eb3f_row6_col3\" class=\"data row6 col3\" >0.004663</td>\n",
       "      <td id=\"T_1eb3f_row6_col4\" class=\"data row6 col4\" >0.000722</td>\n",
       "      <td id=\"T_1eb3f_row6_col5\" class=\"data row6 col5\" >-0.000176</td>\n",
       "      <td id=\"T_1eb3f_row6_col6\" class=\"data row6 col6\" >1.000000</td>\n",
       "      <td id=\"T_1eb3f_row6_col7\" class=\"data row6 col7\" >-0.085446</td>\n",
       "      <td id=\"T_1eb3f_row6_col8\" class=\"data row6 col8\" >-0.036160</td>\n",
       "      <td id=\"T_1eb3f_row6_col9\" class=\"data row6 col9\" >-0.003354</td>\n",
       "      <td id=\"T_1eb3f_row6_col10\" class=\"data row6 col10\" >-0.003206</td>\n",
       "      <td id=\"T_1eb3f_row6_col11\" class=\"data row6 col11\" >0.017533</td>\n",
       "      <td id=\"T_1eb3f_row6_col12\" class=\"data row6 col12\" >0.000110</td>\n",
       "      <td id=\"T_1eb3f_row6_col13\" class=\"data row6 col13\" >0.011017</td>\n",
       "    </tr>\n",
       "    <tr>\n",
       "      <th id=\"T_1eb3f_level0_row7\" class=\"row_heading level0 row7\" >month</th>\n",
       "      <td id=\"T_1eb3f_row7_col0\" class=\"data row7 col0\" >-0.020851</td>\n",
       "      <td id=\"T_1eb3f_row7_col1\" class=\"data row7 col1\" >-0.011243</td>\n",
       "      <td id=\"T_1eb3f_row7_col2\" class=\"data row7 col2\" >0.004324</td>\n",
       "      <td id=\"T_1eb3f_row7_col3\" class=\"data row7 col3\" >0.004358</td>\n",
       "      <td id=\"T_1eb3f_row7_col4\" class=\"data row7 col4\" >0.005023</td>\n",
       "      <td id=\"T_1eb3f_row7_col5\" class=\"data row7 col5\" >-0.007388</td>\n",
       "      <td id=\"T_1eb3f_row7_col6\" class=\"data row7 col6\" >-0.085446</td>\n",
       "      <td id=\"T_1eb3f_row7_col7\" class=\"data row7 col7\" >1.000000</td>\n",
       "      <td id=\"T_1eb3f_row7_col8\" class=\"data row7 col8\" >0.001661</td>\n",
       "      <td id=\"T_1eb3f_row7_col9\" class=\"data row7 col9\" >-0.003785</td>\n",
       "      <td id=\"T_1eb3f_row7_col10\" class=\"data row7 col10\" >-0.001261</td>\n",
       "      <td id=\"T_1eb3f_row7_col11\" class=\"data row7 col11\" >0.010714</td>\n",
       "      <td id=\"T_1eb3f_row7_col12\" class=\"data row7 col12\" >0.006660</td>\n",
       "      <td id=\"T_1eb3f_row7_col13\" class=\"data row7 col13\" >-0.002626</td>\n",
       "    </tr>\n",
       "    <tr>\n",
       "      <th id=\"T_1eb3f_level0_row8\" class=\"row_heading level0 row8\" >hour</th>\n",
       "      <td id=\"T_1eb3f_row8_col0\" class=\"data row8 col0\" >0.032574</td>\n",
       "      <td id=\"T_1eb3f_row8_col1\" class=\"data row8 col1\" >-0.038159</td>\n",
       "      <td id=\"T_1eb3f_row8_col2\" class=\"data row8 col2\" >-0.002537</td>\n",
       "      <td id=\"T_1eb3f_row8_col3\" class=\"data row8 col3\" >-0.002445</td>\n",
       "      <td id=\"T_1eb3f_row8_col4\" class=\"data row8 col4\" >0.002199</td>\n",
       "      <td id=\"T_1eb3f_row8_col5\" class=\"data row8 col5\" >0.000382</td>\n",
       "      <td id=\"T_1eb3f_row8_col6\" class=\"data row8 col6\" >-0.036160</td>\n",
       "      <td id=\"T_1eb3f_row8_col7\" class=\"data row8 col7\" >0.001661</td>\n",
       "      <td id=\"T_1eb3f_row8_col8\" class=\"data row8 col8\" >1.000000</td>\n",
       "      <td id=\"T_1eb3f_row8_col9\" class=\"data row8 col9\" >-0.003379</td>\n",
       "      <td id=\"T_1eb3f_row8_col10\" class=\"data row8 col10\" >0.010417</td>\n",
       "      <td id=\"T_1eb3f_row8_col11\" class=\"data row8 col11\" >0.094426</td>\n",
       "      <td id=\"T_1eb3f_row8_col12\" class=\"data row8 col12\" >-0.037190</td>\n",
       "      <td id=\"T_1eb3f_row8_col13\" class=\"data row8 col13\" >-0.003222</td>\n",
       "    </tr>\n",
       "    <tr>\n",
       "      <th id=\"T_1eb3f_level0_row9\" class=\"row_heading level0 row9\" >District_Cat</th>\n",
       "      <td id=\"T_1eb3f_row9_col0\" class=\"data row9 col0\" >0.024747</td>\n",
       "      <td id=\"T_1eb3f_row9_col1\" class=\"data row9 col1\" >0.088751</td>\n",
       "      <td id=\"T_1eb3f_row9_col2\" class=\"data row9 col2\" >0.063519</td>\n",
       "      <td id=\"T_1eb3f_row9_col3\" class=\"data row9 col3\" >0.063952</td>\n",
       "      <td id=\"T_1eb3f_row9_col4\" class=\"data row9 col4\" >-0.034518</td>\n",
       "      <td id=\"T_1eb3f_row9_col5\" class=\"data row9 col5\" >0.278937</td>\n",
       "      <td id=\"T_1eb3f_row9_col6\" class=\"data row9 col6\" >-0.003354</td>\n",
       "      <td id=\"T_1eb3f_row9_col7\" class=\"data row9 col7\" >-0.003785</td>\n",
       "      <td id=\"T_1eb3f_row9_col8\" class=\"data row9 col8\" >-0.003379</td>\n",
       "      <td id=\"T_1eb3f_row9_col9\" class=\"data row9 col9\" >1.000000</td>\n",
       "      <td id=\"T_1eb3f_row9_col10\" class=\"data row9 col10\" >-0.000922</td>\n",
       "      <td id=\"T_1eb3f_row9_col11\" class=\"data row9 col11\" >0.000176</td>\n",
       "      <td id=\"T_1eb3f_row9_col12\" class=\"data row9 col12\" >-0.008346</td>\n",
       "      <td id=\"T_1eb3f_row9_col13\" class=\"data row9 col13\" >0.053306</td>\n",
       "    </tr>\n",
       "    <tr>\n",
       "      <th id=\"T_1eb3f_level0_row10\" class=\"row_heading level0 row10\" >day</th>\n",
       "      <td id=\"T_1eb3f_row10_col0\" class=\"data row10 col0\" >0.000262</td>\n",
       "      <td id=\"T_1eb3f_row10_col1\" class=\"data row10 col1\" >0.000977</td>\n",
       "      <td id=\"T_1eb3f_row10_col2\" class=\"data row10 col2\" >-0.002560</td>\n",
       "      <td id=\"T_1eb3f_row10_col3\" class=\"data row10 col3\" >-0.002564</td>\n",
       "      <td id=\"T_1eb3f_row10_col4\" class=\"data row10 col4\" >-0.001956</td>\n",
       "      <td id=\"T_1eb3f_row10_col5\" class=\"data row10 col5\" >0.000478</td>\n",
       "      <td id=\"T_1eb3f_row10_col6\" class=\"data row10 col6\" >-0.003206</td>\n",
       "      <td id=\"T_1eb3f_row10_col7\" class=\"data row10 col7\" >-0.001261</td>\n",
       "      <td id=\"T_1eb3f_row10_col8\" class=\"data row10 col8\" >0.010417</td>\n",
       "      <td id=\"T_1eb3f_row10_col9\" class=\"data row10 col9\" >-0.000922</td>\n",
       "      <td id=\"T_1eb3f_row10_col10\" class=\"data row10 col10\" >1.000000</td>\n",
       "      <td id=\"T_1eb3f_row10_col11\" class=\"data row10 col11\" >0.003003</td>\n",
       "      <td id=\"T_1eb3f_row10_col12\" class=\"data row10 col12\" >-0.002436</td>\n",
       "      <td id=\"T_1eb3f_row10_col13\" class=\"data row10 col13\" >0.003835</td>\n",
       "    </tr>\n",
       "    <tr>\n",
       "      <th id=\"T_1eb3f_level0_row11\" class=\"row_heading level0 row11\" >part_of_day</th>\n",
       "      <td id=\"T_1eb3f_row11_col0\" class=\"data row11 col0\" >0.024368</td>\n",
       "      <td id=\"T_1eb3f_row11_col1\" class=\"data row11 col1\" >0.043710</td>\n",
       "      <td id=\"T_1eb3f_row11_col2\" class=\"data row11 col2\" >0.014398</td>\n",
       "      <td id=\"T_1eb3f_row11_col3\" class=\"data row11 col3\" >0.014376</td>\n",
       "      <td id=\"T_1eb3f_row11_col4\" class=\"data row11 col4\" >-0.000935</td>\n",
       "      <td id=\"T_1eb3f_row11_col5\" class=\"data row11 col5\" >-0.007105</td>\n",
       "      <td id=\"T_1eb3f_row11_col6\" class=\"data row11 col6\" >0.017533</td>\n",
       "      <td id=\"T_1eb3f_row11_col7\" class=\"data row11 col7\" >0.010714</td>\n",
       "      <td id=\"T_1eb3f_row11_col8\" class=\"data row11 col8\" >0.094426</td>\n",
       "      <td id=\"T_1eb3f_row11_col9\" class=\"data row11 col9\" >0.000176</td>\n",
       "      <td id=\"T_1eb3f_row11_col10\" class=\"data row11 col10\" >0.003003</td>\n",
       "      <td id=\"T_1eb3f_row11_col11\" class=\"data row11 col11\" >1.000000</td>\n",
       "      <td id=\"T_1eb3f_row11_col12\" class=\"data row11 col12\" >0.068740</td>\n",
       "      <td id=\"T_1eb3f_row11_col13\" class=\"data row11 col13\" >0.033313</td>\n",
       "    </tr>\n",
       "    <tr>\n",
       "      <th id=\"T_1eb3f_level0_row12\" class=\"row_heading level0 row12\" >day_of_week_Cat</th>\n",
       "      <td id=\"T_1eb3f_row12_col0\" class=\"data row12 col0\" >0.009240</td>\n",
       "      <td id=\"T_1eb3f_row12_col1\" class=\"data row12 col1\" >0.033452</td>\n",
       "      <td id=\"T_1eb3f_row12_col2\" class=\"data row12 col2\" >0.011317</td>\n",
       "      <td id=\"T_1eb3f_row12_col3\" class=\"data row12 col3\" >0.011263</td>\n",
       "      <td id=\"T_1eb3f_row12_col4\" class=\"data row12 col4\" >0.007894</td>\n",
       "      <td id=\"T_1eb3f_row12_col5\" class=\"data row12 col5\" >-0.012470</td>\n",
       "      <td id=\"T_1eb3f_row12_col6\" class=\"data row12 col6\" >0.000110</td>\n",
       "      <td id=\"T_1eb3f_row12_col7\" class=\"data row12 col7\" >0.006660</td>\n",
       "      <td id=\"T_1eb3f_row12_col8\" class=\"data row12 col8\" >-0.037190</td>\n",
       "      <td id=\"T_1eb3f_row12_col9\" class=\"data row12 col9\" >-0.008346</td>\n",
       "      <td id=\"T_1eb3f_row12_col10\" class=\"data row12 col10\" >-0.002436</td>\n",
       "      <td id=\"T_1eb3f_row12_col11\" class=\"data row12 col11\" >0.068740</td>\n",
       "      <td id=\"T_1eb3f_row12_col12\" class=\"data row12 col12\" >1.000000</td>\n",
       "      <td id=\"T_1eb3f_row12_col13\" class=\"data row12 col13\" >0.030250</td>\n",
       "    </tr>\n",
       "    <tr>\n",
       "      <th id=\"T_1eb3f_level0_row13\" class=\"row_heading level0 row13\" >medical_supp</th>\n",
       "      <td id=\"T_1eb3f_row13_col0\" class=\"data row13 col0\" >-0.005945</td>\n",
       "      <td id=\"T_1eb3f_row13_col1\" class=\"data row13 col1\" >0.404779</td>\n",
       "      <td id=\"T_1eb3f_row13_col2\" class=\"data row13 col2\" >-0.050003</td>\n",
       "      <td id=\"T_1eb3f_row13_col3\" class=\"data row13 col3\" >-0.050089</td>\n",
       "      <td id=\"T_1eb3f_row13_col4\" class=\"data row13 col4\" >-0.065648</td>\n",
       "      <td id=\"T_1eb3f_row13_col5\" class=\"data row13 col5\" >0.074488</td>\n",
       "      <td id=\"T_1eb3f_row13_col6\" class=\"data row13 col6\" >0.011017</td>\n",
       "      <td id=\"T_1eb3f_row13_col7\" class=\"data row13 col7\" >-0.002626</td>\n",
       "      <td id=\"T_1eb3f_row13_col8\" class=\"data row13 col8\" >-0.003222</td>\n",
       "      <td id=\"T_1eb3f_row13_col9\" class=\"data row13 col9\" >0.053306</td>\n",
       "      <td id=\"T_1eb3f_row13_col10\" class=\"data row13 col10\" >0.003835</td>\n",
       "      <td id=\"T_1eb3f_row13_col11\" class=\"data row13 col11\" >0.033313</td>\n",
       "      <td id=\"T_1eb3f_row13_col12\" class=\"data row13 col12\" >0.030250</td>\n",
       "      <td id=\"T_1eb3f_row13_col13\" class=\"data row13 col13\" >1.000000</td>\n",
       "    </tr>\n",
       "  </tbody>\n",
       "</table>\n"
      ],
      "text/plain": [
       "<pandas.io.formats.style.Styler at 0x22b3cae8dc0>"
      ]
     },
     "execution_count": 90,
     "metadata": {},
     "output_type": "execute_result"
    }
   ],
   "source": [
    "import pandas as pd\n",
    "import numpy as np\n",
    "\n",
    "\n",
    "corr = dfu.corr()\n",
    "corr.style.background_gradient(cmap='coolwarm')"
   ]
  },
  {
   "cell_type": "code",
   "execution_count": 91,
   "id": "96cb9fc1",
   "metadata": {},
   "outputs": [],
   "source": [
    "X_predictiontest= dfu[dfu.formatted_date >= '2023-01-01']\n",
    "X_norm=dfu[dfu.formatted_date < '2023-01-01']"
   ]
  },
  {
   "cell_type": "code",
   "execution_count": 92,
   "id": "7f3d7f32",
   "metadata": {},
   "outputs": [],
   "source": [
    "X_norm = X_norm.sort_values('formatted_date')\n",
    "X_norm.dropna(inplace=True)"
   ]
  },
  {
   "cell_type": "code",
   "execution_count": 93,
   "id": "c619aab8",
   "metadata": {},
   "outputs": [],
   "source": [
    "X= X_norm.drop(['medical_supp'],axis=1)\n",
    "y= X_norm['medical_supp']\n",
    "\n",
    "X.set_index('formatted_date', inplace=True)"
   ]
  },
  {
   "cell_type": "code",
   "execution_count": 94,
   "id": "e2f7c602",
   "metadata": {},
   "outputs": [],
   "source": [
    "# assume X is a matrix of features and y is a vector of labels\n",
    "X_train, X_test, y_train, y_test = train_test_split(X, y, test_size=0.2,shuffle=False)"
   ]
  },
  {
   "cell_type": "markdown",
   "id": "c6627568",
   "metadata": {},
   "source": [
    "### Linear Regression"
   ]
  },
  {
   "cell_type": "code",
   "execution_count": 95,
   "id": "0deeb420",
   "metadata": {},
   "outputs": [
    {
     "name": "stdout",
     "output_type": "stream",
     "text": [
      "\n",
      "The coefficients of the linear boundary are: [[-4.63429180e-03  8.73084172e-01  9.95340115e-03 -3.94028650e-03\n",
      "  -1.90527359e-03  4.91726378e-03  2.92253762e-03  4.26296115e-03\n",
      "   6.93867048e-04 -6.92343417e-04  7.29913475e-04  1.82169872e-03\n",
      "  -1.29457084e-03]]\n",
      "\n",
      "The point of intersection of the line are: [-0.47912095]\n",
      "\n",
      "The Accuracy of our classifier is: 68.18944625031256\n"
     ]
    }
   ],
   "source": [
    "from sklearn.preprocessing import StandardScaler\n",
    "# Standarize the features\n",
    "scaler = StandardScaler().fit(X_train)\n",
    "X_train = scaler.transform(X_train)\n",
    "X_test = scaler.transform(X_test)\n",
    "\n",
    "# create the linear model SGDclassifier\n",
    "from sklearn.linear_model import SGDClassifier\n",
    "linear_clf = SGDClassifier()\n",
    "\n",
    "# Train the classifier using fit() function\n",
    "linear_clf.fit(X_train, y_train)\n",
    "\n",
    "# Print the learned coeficients\n",
    "print (\"\\nThe coefficients of the linear boundary are:\", linear_clf.coef_)\n",
    "print (\"\\nThe point of intersection of the line are:\",linear_clf.intercept_)\n",
    "\n",
    "# Evaluate the result\n",
    "from sklearn import metrics\n",
    "y_pred = linear_clf.predict(X_test)\n",
    "print (\"\\nThe Accuracy of our classifier is:\", metrics.accuracy_score(y_test, y_pred)*100)"
   ]
  },
  {
   "cell_type": "raw",
   "id": "975c70ec",
   "metadata": {},
   "source": []
  },
  {
   "cell_type": "code",
   "execution_count": 96,
   "id": "b3234401",
   "metadata": {},
   "outputs": [
    {
     "name": "stdout",
     "output_type": "stream",
     "text": [
      "              precision    recall  f1-score   support\n",
      "\n",
      "           0       0.63      0.91      0.74    209691\n",
      "           1       0.83      0.45      0.58    206237\n",
      "\n",
      "    accuracy                           0.68    415928\n",
      "   macro avg       0.73      0.68      0.66    415928\n",
      "weighted avg       0.73      0.68      0.66    415928\n",
      "\n"
     ]
    }
   ],
   "source": [
    "from sklearn import metrics\n",
    "print(metrics.classification_report(y_test, y_pred))"
   ]
  },
  {
   "cell_type": "markdown",
   "id": "e2d9bd4d",
   "metadata": {},
   "source": [
    "#### Test for the evaluation set"
   ]
  },
  {
   "cell_type": "code",
   "execution_count": 97,
   "id": "1638a6b0",
   "metadata": {},
   "outputs": [],
   "source": [
    "X_predictiontest = X_predictiontest.sort_values('formatted_date')\n",
    "X_predictiontest.dropna(inplace=True)\n",
    "X_predictiontest.set_index('formatted_date', inplace=True)\n",
    "X_eval= X_predictiontest.drop(['medical_supp'],axis=1)\n",
    "y_eval= X_predictiontest['medical_supp']"
   ]
  },
  {
   "cell_type": "code",
   "execution_count": 98,
   "id": "874fe786",
   "metadata": {},
   "outputs": [
    {
     "name": "stdout",
     "output_type": "stream",
     "text": [
      "\n",
      "The Accuracy of our classifier is: 70.27497221282559\n"
     ]
    }
   ],
   "source": [
    "X_eval = scaler.transform(X_eval)\n",
    "\n",
    "y_pred_eval = linear_clf.predict(X_eval)\n",
    "print (\"\\nThe Accuracy of our classifier is:\", metrics.accuracy_score(y_eval, y_pred_eval)*100)"
   ]
  },
  {
   "cell_type": "code",
   "execution_count": 99,
   "id": "77d0e53d",
   "metadata": {},
   "outputs": [
    {
     "name": "stdout",
     "output_type": "stream",
     "text": [
      "              precision    recall  f1-score   support\n",
      "\n",
      "           0       0.66      0.92      0.77     43918\n",
      "           1       0.84      0.45      0.59     38854\n",
      "\n",
      "    accuracy                           0.70     82772\n",
      "   macro avg       0.75      0.69      0.68     82772\n",
      "weighted avg       0.74      0.70      0.68     82772\n",
      "\n"
     ]
    }
   ],
   "source": [
    "print(metrics.classification_report(y_eval, y_pred_eval))"
   ]
  },
  {
   "cell_type": "markdown",
   "id": "96b893c6",
   "metadata": {},
   "source": [
    "## Decision tree"
   ]
  },
  {
   "cell_type": "code",
   "execution_count": 100,
   "id": "4f9b5076",
   "metadata": {},
   "outputs": [
    {
     "name": "stdout",
     "output_type": "stream",
     "text": [
      "Accuracy: 57.93%\n"
     ]
    }
   ],
   "source": [
    "from sklearn.tree import DecisionTreeClassifier\n",
    "from sklearn.metrics import accuracy_score\n",
    "\n",
    "model = DecisionTreeClassifier()\n",
    "model.fit(X_train, y_train)\n",
    "\n",
    "# Use the model to make predictions on the testing data\n",
    "y_pred = model.predict(X_test)\n",
    "\n",
    "# Evaluate the accuracy of the model\n",
    "accuracy = accuracy_score(y_test, y_pred)\n",
    "print('Accuracy: {:.2f}%'.format(accuracy * 100))"
   ]
  },
  {
   "cell_type": "code",
   "execution_count": 101,
   "id": "5a5d3cb3",
   "metadata": {},
   "outputs": [
    {
     "name": "stdout",
     "output_type": "stream",
     "text": [
      "              precision    recall  f1-score   support\n",
      "\n",
      "           0       0.56      0.76      0.65    209691\n",
      "           1       0.62      0.39      0.48    206237\n",
      "\n",
      "    accuracy                           0.58    415928\n",
      "   macro avg       0.59      0.58      0.56    415928\n",
      "weighted avg       0.59      0.58      0.56    415928\n",
      "\n"
     ]
    }
   ],
   "source": [
    "print(metrics.classification_report(y_test, y_pred))"
   ]
  },
  {
   "cell_type": "markdown",
   "id": "e6c44bd1",
   "metadata": {},
   "source": [
    "#### test for evaliation set"
   ]
  },
  {
   "cell_type": "code",
   "execution_count": 102,
   "id": "e8bdcfb3",
   "metadata": {},
   "outputs": [
    {
     "name": "stdout",
     "output_type": "stream",
     "text": [
      "Accuracy: 59.75%\n"
     ]
    }
   ],
   "source": [
    "y_pred_eval = model.predict(X_eval)\n",
    "accuracy = accuracy_score(y_eval, y_pred_eval)\n",
    "print('Accuracy: {:.2f}%'.format(accuracy * 100))"
   ]
  },
  {
   "cell_type": "code",
   "execution_count": 103,
   "id": "2190836c",
   "metadata": {},
   "outputs": [
    {
     "name": "stdout",
     "output_type": "stream",
     "text": [
      "              precision    recall  f1-score   support\n",
      "\n",
      "           0       0.59      0.78      0.67     43918\n",
      "           1       0.61      0.39      0.48     38854\n",
      "\n",
      "    accuracy                           0.60     82772\n",
      "   macro avg       0.60      0.59      0.57     82772\n",
      "weighted avg       0.60      0.60      0.58     82772\n",
      "\n"
     ]
    }
   ],
   "source": [
    "print(metrics.classification_report(y_eval, y_pred_eval))"
   ]
  },
  {
   "cell_type": "markdown",
   "id": "abab42ca",
   "metadata": {},
   "source": [
    "## Logistic Regression"
   ]
  },
  {
   "cell_type": "code",
   "execution_count": 104,
   "id": "5a13b1a7",
   "metadata": {},
   "outputs": [
    {
     "name": "stdout",
     "output_type": "stream",
     "text": [
      "Accuracy: 68.19%\n"
     ]
    }
   ],
   "source": [
    "from sklearn.linear_model import LogisticRegression\n",
    "\n",
    "model = LogisticRegression()\n",
    "model.fit(X_train, y_train)\n",
    "\n",
    "# Use the model to make predictions on the testing data\n",
    "y_pred = model.predict(X_test)\n",
    "\n",
    "# Evaluate the accuracy of the model\n",
    "accuracy = accuracy_score(y_test, y_pred)\n",
    "print('Accuracy: {:.2f}%'.format(accuracy * 100))"
   ]
  },
  {
   "cell_type": "code",
   "execution_count": 105,
   "id": "3045a687",
   "metadata": {},
   "outputs": [
    {
     "name": "stdout",
     "output_type": "stream",
     "text": [
      "              precision    recall  f1-score   support\n",
      "\n",
      "           0       0.63      0.91      0.74    209691\n",
      "           1       0.83      0.45      0.58    206237\n",
      "\n",
      "    accuracy                           0.68    415928\n",
      "   macro avg       0.73      0.68      0.66    415928\n",
      "weighted avg       0.73      0.68      0.66    415928\n",
      "\n"
     ]
    }
   ],
   "source": [
    "print(metrics.classification_report(y_test, y_pred))"
   ]
  },
  {
   "cell_type": "markdown",
   "id": "00909334",
   "metadata": {},
   "source": [
    "#### test for eval set"
   ]
  },
  {
   "cell_type": "code",
   "execution_count": 106,
   "id": "0f288b28",
   "metadata": {},
   "outputs": [
    {
     "name": "stdout",
     "output_type": "stream",
     "text": [
      "Accuracy: 70.27%\n"
     ]
    }
   ],
   "source": [
    "y_pred_eval = model.predict(X_eval)\n",
    "accuracy = accuracy_score(y_eval, y_pred_eval)\n",
    "print('Accuracy: {:.2f}%'.format(accuracy * 100))"
   ]
  },
  {
   "cell_type": "code",
   "execution_count": 107,
   "id": "69aee247",
   "metadata": {},
   "outputs": [
    {
     "name": "stdout",
     "output_type": "stream",
     "text": [
      "              precision    recall  f1-score   support\n",
      "\n",
      "           0       0.66      0.92      0.77     43918\n",
      "           1       0.84      0.45      0.59     38854\n",
      "\n",
      "    accuracy                           0.70     82772\n",
      "   macro avg       0.75      0.69      0.68     82772\n",
      "weighted avg       0.74      0.70      0.68     82772\n",
      "\n"
     ]
    }
   ],
   "source": [
    "print(metrics.classification_report(y_eval, y_pred_eval))"
   ]
  },
  {
   "cell_type": "markdown",
   "id": "4cd8cb63",
   "metadata": {},
   "source": [
    "## Random Forest "
   ]
  },
  {
   "cell_type": "code",
   "execution_count": 108,
   "id": "ef8297d5",
   "metadata": {},
   "outputs": [
    {
     "name": "stdout",
     "output_type": "stream",
     "text": [
      "Accuracy: 66.26%\n"
     ]
    }
   ],
   "source": [
    "from sklearn.ensemble import RandomForestClassifier\n",
    "\n",
    "# Create and fit the random forest model\n",
    "model = RandomForestClassifier(n_estimators=100, random_state=42)\n",
    "model.fit(X_train, y_train)\n",
    "\n",
    "# Use the model to make predictions on the testing data\n",
    "y_pred = model.predict(X_test)\n",
    "\n",
    "# Evaluate the accuracy of the model\n",
    "accuracy = accuracy_score(y_test, y_pred)\n",
    "print('Accuracy: {:.2f}%'.format(accuracy * 100))"
   ]
  },
  {
   "cell_type": "code",
   "execution_count": 109,
   "id": "1f177486",
   "metadata": {},
   "outputs": [
    {
     "name": "stdout",
     "output_type": "stream",
     "text": [
      "              precision    recall  f1-score   support\n",
      "\n",
      "           0       0.62      0.88      0.72    209691\n",
      "           1       0.78      0.44      0.57    206237\n",
      "\n",
      "    accuracy                           0.66    415928\n",
      "   macro avg       0.70      0.66      0.65    415928\n",
      "weighted avg       0.70      0.66      0.65    415928\n",
      "\n"
     ]
    }
   ],
   "source": [
    "print(metrics.classification_report(y_test, y_pred))"
   ]
  },
  {
   "cell_type": "markdown",
   "id": "4b74647c",
   "metadata": {},
   "source": [
    "#### test for eval set"
   ]
  },
  {
   "cell_type": "code",
   "execution_count": 110,
   "id": "0a59ecaa",
   "metadata": {},
   "outputs": [
    {
     "name": "stdout",
     "output_type": "stream",
     "text": [
      "Accuracy: 68.16%\n"
     ]
    }
   ],
   "source": [
    "y_pred_eval = model.predict(X_eval)\n",
    "accuracy = accuracy_score(y_eval, y_pred_eval)\n",
    "print('Accuracy: {:.2f}%'.format(accuracy * 100))"
   ]
  },
  {
   "cell_type": "code",
   "execution_count": 111,
   "id": "a73efa1c",
   "metadata": {},
   "outputs": [
    {
     "name": "stdout",
     "output_type": "stream",
     "text": [
      "              precision    recall  f1-score   support\n",
      "\n",
      "           0       0.64      0.89      0.75     43918\n",
      "           1       0.79      0.44      0.57     38854\n",
      "\n",
      "    accuracy                           0.68     82772\n",
      "   macro avg       0.72      0.67      0.66     82772\n",
      "weighted avg       0.71      0.68      0.66     82772\n",
      "\n"
     ]
    }
   ],
   "source": [
    "print(metrics.classification_report(y_eval, y_pred_eval))"
   ]
  }
 ],
 "metadata": {
  "kernelspec": {
   "display_name": "Python 3 (ipykernel)",
   "language": "python",
   "name": "python3"
  },
  "language_info": {
   "codemirror_mode": {
    "name": "ipython",
    "version": 3
   },
   "file_extension": ".py",
   "mimetype": "text/x-python",
   "name": "python",
   "nbconvert_exporter": "python",
   "pygments_lexer": "ipython3",
   "version": "3.9.7"
  }
 },
 "nbformat": 4,
 "nbformat_minor": 5
}
